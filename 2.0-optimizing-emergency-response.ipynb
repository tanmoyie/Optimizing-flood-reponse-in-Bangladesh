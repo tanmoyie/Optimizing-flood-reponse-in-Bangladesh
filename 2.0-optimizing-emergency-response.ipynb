{
 "cells": [
  {
   "cell_type": "code",
   "execution_count": null,
   "id": "initial_id",
   "metadata": {
    "collapsed": true,
    "ExecuteTime": {
     "end_time": "2024-09-02T01:42:10.436490Z",
     "start_time": "2024-09-02T01:42:10.434386Z"
    }
   },
   "outputs": [],
   "source": []
  },
  {
   "cell_type": "markdown",
   "source": [
    "# Data Exploration"
   ],
   "metadata": {
    "collapsed": false
   },
   "id": "ec2ea051c8d727b7"
  },
  {
   "cell_type": "code",
   "outputs": [],
   "source": [],
   "metadata": {
    "collapsed": false,
    "ExecuteTime": {
     "end_time": "2024-09-02T01:42:10.439001Z",
     "start_time": "2024-09-02T01:42:10.437368Z"
    }
   },
   "id": "ceebe8ada2d5303",
   "execution_count": null
  },
  {
   "cell_type": "code",
   "outputs": [],
   "source": [
    "# !pip install matplotlib_scalebar"
   ],
   "metadata": {
    "collapsed": false,
    "ExecuteTime": {
     "end_time": "2024-09-02T01:42:10.443066Z",
     "start_time": "2024-09-02T01:42:10.439436Z"
    }
   },
   "id": "d38794239ead59d4",
   "execution_count": 1
  },
  {
   "cell_type": "markdown",
   "source": [
    "# Modeling"
   ],
   "metadata": {
    "collapsed": false
   },
   "id": "c5484bc1a0e0c445"
  },
  {
   "cell_type": "code",
   "outputs": [
    {
     "name": "stdout",
     "output_type": "stream",
     "text": [
      "Set parameter Username\n",
      "Academic license - for non-commercial use only - expires 2025-05-03\n",
      "Gurobi Optimizer version 11.0.2 build v11.0.2rc0 (mac64[arm] - Darwin 23.4.0 23E224)\n",
      "\n",
      "CPU model: Apple M2\n",
      "Thread count: 8 physical cores, 8 logical processors, using up to 8 threads\n",
      "\n",
      "Optimize a model with 96 rows, 84 columns and 348 nonzeros\n",
      "Model fingerprint: 0xca5b94eb\n",
      "Variable types: 12 continuous, 72 integer (72 binary)\n",
      "Coefficient statistics:\n",
      "  Matrix range     [1e+00, 1e+04]\n",
      "  Objective range  [5e+00, 2e+01]\n",
      "  Bounds range     [1e+00, 1e+00]\n",
      "  RHS range        [1e+00, 1e+04]\n",
      "Found heuristic solution: objective 0.0000000\n",
      "\n",
      "Explored 0 nodes (0 simplex iterations) in 0.00 seconds (0.00 work units)\n",
      "Thread count was 1 (of 8 available processors)\n",
      "\n",
      "Solution count 1: 0 \n",
      "\n",
      "Optimal solution found (tolerance 1.00e-04)\n",
      "Best objective 0.000000000000e+00, best bound 0.000000000000e+00, gap 0.0000%\n",
      "Route for vehicle 0: [(4, 4)]\n",
      "Route for vehicle 1: [(0, 0), (1, 1), (2, 2), (3, 3), (5, 5)]\n"
     ]
    },
    {
     "data": {
      "text/plain": "<Figure size 640x480 with 1 Axes>",
      "image/png": "[encoded data removed]"
     },
     "metadata": {},
     "output_type": "display_data"
    }
   ],
   "source": [
    "from optimization_model.vrp_tw import VRPTWData, VRPTWModel, VRPNetworkPlot\n",
    "# Instantiate and solve the problem# Instantiate and solve the problem\n",
    "data = VRPTWData()\n",
    "vrp_model = VRPTWModel(data)\n",
    "vrp_model.solve()\n",
    "vrp_model.print_solution()\n",
    "\n",
    "# Plot the solution\n",
    "plot = VRPNetworkPlot(data, vrp_model.vehicle_routes)\n",
    "plot.create_graph()\n",
    "plot.draw()\n"
   ],
   "metadata": {
    "collapsed": false,
    "ExecuteTime": {
     "end_time": "2024-09-02T01:42:10.912506Z",
     "start_time": "2024-09-02T01:42:10.445617Z"
    }
   },
   "id": "444bac6cdd1eb8c",
   "execution_count": 2
  },
  {
   "cell_type": "code",
   "outputs": [
    {
     "name": "stdout",
     "output_type": "stream",
     "text": [
      "Distance Matrix:\n",
      "[[  0  50  82  32  33  35  86  79  43  66  84  59  18  47  93  81  30  60\n",
      "   85  59  52]\n",
      " [ 50   0  72  72  17  80  39  68  43  42  47  49  33  53  56  44  75  31\n",
      "   65  16  61]\n",
      " [ 82  72   0  71  70  82  67   3  39  30  45  25  69  36  44  45  79 103\n",
      "   15  59  34]\n",
      " [ 32  72  71   0  56  11 101  69  42  68  91  55  40  37  97  88   8  90\n",
      "   80  75  37]\n",
      " [ 33  17  70  56   0  63  54  67  34  44  56  46  16  44  66  53  58  37\n",
      "   67  28  52]\n",
      " [ 35  80  82  11  63   0 111  80  52  79 101  66  47  48 108  99   4  95\n",
      "   91  84  48]\n",
      " [ 86  39  67 101  54 111   0  65  61  40  23  56  68  70  29  22 106  61\n",
      "   54  27  76]\n",
      " [ 79  68   3  69  67  80  65   0  36  27  43  21  66  33  43  42  77 100\n",
      "   14  56  31]\n",
      " [ 43  43  39  42  34  52  61  36   0  26  49  15  30  10  55  46  48  71\n",
      "   42  38  18]\n",
      " [ 66  42  30  68  44  79  40  27  26   0  23  15  49  32  29  21  75  74\n",
      "   23  29  37]\n",
      " [ 84  47  45  91  56 101  23  43  49  23   0  39  66  55   9   3  97  75\n",
      "   31  30  60]\n",
      " [ 59  49  25  55  46  66  56  21  15  15  39   0  44  17  43  37  62  80\n",
      "   26  39  21]\n",
      " [ 18  33  69  40  16  47  68  66  30  49  66  44   0  37  75  63  42  51\n",
      "   70  41  44]\n",
      " [ 47  53  36  37  44  48  70  33  10  32  55  17  37   0  61  53  45  82\n",
      "   42  49   7]\n",
      " [ 93  56  44  97  66 108  29  43  55  29   9  43  75  61   0  12 104  84\n",
      "   29  40  65]\n",
      " [ 81  44  45  88  53  99  22  42  46  21   3  37  63  53  12   0  94  73\n",
      "   31  28  58]\n",
      " [ 30  75  79   8  58   4 106  77  48  75  97  62  42  45 104  94   0  91\n",
      "   88  80  45]\n",
      " [ 60  31 103  90  37  95  61 100  71  74  75  80  51  82  84  73  91   0\n",
      "   97  46  89]\n",
      " [ 85  65  15  80  67  91  54  14  42  23  31  26  70  42  29  31  88  97\n",
      "    0  51  43]\n",
      " [ 59  16  59  75  28  84  27  56  38  29  30  39  41  49  40  28  80  46\n",
      "   51   0  56]\n",
      " [ 52  61  34  37  52  48  76  31  18  37  60  21  44   7  65  58  45  89\n",
      "   43  56   0]]\n"
     ]
    }
   ],
   "source": [
    "import numpy as np\n",
    "from scipy.spatial import distance_matrix\n",
    "\n",
    "# Define coordinates for the depot and 20 customers\n",
    "np.random.seed(42)\n",
    "coordinates = np.random.rand(21, 2) * 100  # Random points in a 100x100 area\n",
    "\n",
    "# Calculate the distance matrix\n",
    "distance_matrix = distance_matrix(coordinates, coordinates)\n",
    "\n",
    "# Convert to integer type\n",
    "distance_matrix = distance_matrix.astype(int)\n",
    "\n",
    "print(\"Distance Matrix:\")\n",
    "print(distance_matrix)\n"
   ],
   "metadata": {
    "collapsed": false,
    "ExecuteTime": {
     "end_time": "2024-09-02T01:42:11.039504Z",
     "start_time": "2024-09-02T01:42:10.911296Z"
    }
   },
   "id": "26e8c8e003fb118d",
   "execution_count": 3
  },
  {
   "cell_type": "markdown",
   "source": [
    "# Application"
   ],
   "metadata": {
    "collapsed": false
   },
   "id": "562441e876f8d13c"
  },
  {
   "cell_type": "markdown",
   "source": [],
   "metadata": {
    "collapsed": false
   },
   "id": "1e1bebc77704d64a"
  }
 ],
 "metadata": {
  "kernelspec": {
   "display_name": "Python 3",
   "language": "python",
   "name": "python3"
  },
  "language_info": {
   "codemirror_mode": {
    "name": "ipython",
    "version": 2
   },
   "file_extension": ".py",
   "mimetype": "text/x-python",
   "name": "python",
   "nbconvert_exporter": "python",
   "pygments_lexer": "ipython2",
   "version": "2.7.6"
  }
 },
 "nbformat": 4,
 "nbformat_minor": 5
}
